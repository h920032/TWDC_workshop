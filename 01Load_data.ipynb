{
 "cells": [
  {
   "cell_type": "markdown",
   "metadata": {},
   "source": [
    "# 1.Viewing information of Datacube "
   ]
  },
  {
   "cell_type": "code",
   "execution_count": null,
   "metadata": {},
   "outputs": [],
   "source": [
    "import datacube\n",
    "dc = datacube.Datacube(app = 'my_app', config = '/home/localuser/.datacube.conf')\n",
    "\n",
    "list_of_products = dc.list_products()\n",
    "netCDF_products = list_of_products[list_of_products['format'] == 'NetCDF']\n",
    "netCDF_products"
   ]
  },
  {
   "cell_type": "code",
   "execution_count": null,
   "metadata": {
    "scrolled": false
   },
   "outputs": [],
   "source": [
    "#list_of_measurements = dc.list_measurements('ls7_lasrc_taiwan')\n",
    "list_of_measurements = dc.list_measurements()\n",
    "list_of_measurements"
   ]
  },
  {
   "cell_type": "code",
   "execution_count": null,
   "metadata": {},
   "outputs": [],
   "source": [
    "import utils.data_access_api as dc_api  \n",
    "api = dc_api.DataAccessApi(config = '/home/localuser/.datacube.conf')\n",
    "\n",
    "platform = \"LANDSAT_8\"\n",
    "product = \"ls8_C1_sr_taiwan\"\n",
    "\n",
    "# Get Coordinates\n",
    "coordinates = api.get_full_dataset_extent(platform = platform, product = product)\n",
    "times = coordinates[\"time\"].values \n",
    "\n",
    "latitude_extents = (min(coordinates['latitude'].values),max(coordinates['latitude'].values))\n",
    "print( latitude_extents )\n",
    "longitude_extents = (min(coordinates['longitude'].values),max(coordinates['longitude'].values))\n",
    "print( longitude_extents )"
   ]
  },
  {
   "cell_type": "markdown",
   "metadata": {},
   "source": [
    "# 2.Loading data from Datacube"
   ]
  },
  {
   "cell_type": "code",
   "execution_count": null,
   "metadata": {},
   "outputs": [],
   "source": [
    "import datetime\n",
    "\n",
    "# define geographic boundaries in (min, max) format\n",
    "lon = (120.972549, 121.511577)\n",
    "lat = (24.783987, 25.307047)"
   ]
  },
  {
   "cell_type": "code",
   "execution_count": null,
   "metadata": {},
   "outputs": [],
   "source": [
    "from utils.data_cube_utilities.dc_display_map import display_map\n",
    "display_map(latitude = lat, longitude = lon)"
   ]
  },
  {
   "cell_type": "code",
   "execution_count": null,
   "metadata": {},
   "outputs": [],
   "source": [
    "date_range =(datetime.datetime(2015,1,1), datetime.datetime(2015,2,28))\n",
    "# define product and platform to specify our intent to load Landsat 8 sr products\n",
    "platform = 'LANDSAT_8'\n",
    "product = 'ls8_C1_sr_taiwan'  \n",
    "# define desired bands. \n",
    "desired_bands = ['red','green','blue','nir','swir1','swir2','pixel_qa']  \n",
    "\n",
    "# load area. Should result in approximately 15 acquisitions between 2014 and 2016      \n",
    "landsat = dc.load(product = product,platform = platform,lat = lat,lon = lon, time = date_range,measurements = desired_bands,group_by = 'solar_day')"
   ]
  },
  {
   "cell_type": "code",
   "execution_count": null,
   "metadata": {},
   "outputs": [],
   "source": [
    "landsat"
   ]
  },
  {
   "cell_type": "markdown",
   "metadata": {},
   "source": [
    "# 3.Ploting data"
   ]
  },
  {
   "cell_type": "code",
   "execution_count": null,
   "metadata": {},
   "outputs": [],
   "source": [
    "import matplotlib.pyplot as plt\n",
    "%matplotlib inline"
   ]
  },
  {
   "cell_type": "code",
   "execution_count": null,
   "metadata": {},
   "outputs": [],
   "source": [
    "landsat.green.plot(col='time', col_wrap=5)#.where(landsat.green < 1000).plot(col='time', col_wrap=2)"
   ]
  },
  {
   "cell_type": "markdown",
   "metadata": {},
   "source": [
    "# 4.Save to tiff"
   ]
  },
  {
   "cell_type": "code",
   "execution_count": null,
   "metadata": {},
   "outputs": [],
   "source": [
    "import time\n",
    "import rasterio\n",
    "import os\n",
    "from dc_utilities import write_geotiff_from_xr\n",
    "\n",
    "def time_to_string(t):\n",
    "    return time.strftime(\"%Y_%m_%d_%H_%M_%S\", time.gmtime(t.astype(int)/1000000000))\n",
    "\n",
    "def export_slice_to_geotiff(ds, path):\n",
    "    write_geotiff_from_xr(path,ds.astype(np.float32),list(ds.data_vars.keys()),crs=\"EPSG:4326\")\n",
    "\n",
    "#For each time slice in a dataset we call export_slice_to_geotif\n",
    "def export_xarray_to_geotiff(ds, path):\n",
    "    for t in ds.time:\n",
    "        time_slice_xarray = ds.sel(time = t)\n",
    "        export_slice_to_geotiff(time_slice_xarray, path + \"_\" + time_to_string(t) + \".tif\")\n",
    "#Start Export\n",
    "output_dir = \"~/data\"\n",
    "\n",
    "if not os.path.exists(output_dir):\n",
    "    os.makedirs(output_dir)\n",
    "\n",
    "export_xarray_to_geotiff(combined_dataset, \"{}/{}\".format(output_dir,product))"
   ]
  },
  {
   "cell_type": "code",
   "execution_count": null,
   "metadata": {},
   "outputs": [],
   "source": [
    "from utils.dc_utilities import write_geotiff_from_xr\n",
    "import numpy as np\n",
    "write_geotiff_from_xr(\"../test.tiff\",landsat.sel(time = landsat.time[1]).astype(np.float32),list(landsat.sel(time = landsat.time[1]).data_vars.keys()),crs=\"EPSG:4326\")"
   ]
  },
  {
   "cell_type": "markdown",
   "metadata": {},
   "source": [
    "# 5.Save to NetCDF"
   ]
  },
  {
   "cell_type": "code",
   "execution_count": null,
   "metadata": {},
   "outputs": [],
   "source": [
    "import xarray as xr\n",
    "#xr.Dataset(landsat.values(), coords = landsat.coords, dims = landsat.dims)\n",
    "temp = list(landsat.data_vars.keys())\n",
    "for i in temp:\n",
    "    landsat[i].attrs = []\n",
    "landsat.to_netCDF('test.nc')"
   ]
  },
  {
   "cell_type": "code",
   "execution_count": null,
   "metadata": {},
   "outputs": [],
   "source": []
  }
 ],
 "metadata": {
  "kernelspec": {
   "display_name": "Python [root] *",
   "language": "python",
   "name": "conda-root-py"
  },
  "language_info": {
   "codemirror_mode": {
    "name": "ipython",
    "version": 3
   },
   "file_extension": ".py",
   "mimetype": "text/x-python",
   "name": "python",
   "nbconvert_exporter": "python",
   "pygments_lexer": "ipython3",
   "version": "3.6.7"
  }
 },
 "nbformat": 4,
 "nbformat_minor": 2
}
