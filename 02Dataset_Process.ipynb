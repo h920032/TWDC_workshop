{
 "cells": [
  {
   "cell_type": "markdown",
   "metadata": {},
   "source": [
    "# 0.Load data from netCDF"
   ]
  },
  {
   "cell_type": "code",
   "execution_count": null,
   "metadata": {},
   "outputs": [],
   "source": [
    "dataset = xr.open_dataset('test.nc')"
   ]
  },
  {
   "cell_type": "markdown",
   "metadata": {},
   "source": [
    "# 1.List band"
   ]
  },
  {
   "cell_type": "code",
   "execution_count": null,
   "metadata": {},
   "outputs": [],
   "source": [
    "list(dataset.data_vars.keys())"
   ]
  },
  {
   "cell_type": "markdown",
   "metadata": {},
   "source": [
    "# 2.Select Band"
   ]
  },
  {
   "cell_type": "code",
   "execution_count": null,
   "metadata": {},
   "outputs": [],
   "source": [
    "green = dataset.green"
   ]
  },
  {
   "cell_type": "code",
   "execution_count": null,
   "metadata": {},
   "outputs": [],
   "source": [
    "green.plot(col='time', col_wrap=10)"
   ]
  },
  {
   "cell_type": "markdown",
   "metadata": {},
   "source": [
    "# 3.Use where"
   ]
  },
  {
   "cell_type": "code",
   "execution_count": null,
   "metadata": {},
   "outputs": [],
   "source": [
    "autumn = dataset.green.where(dataset.pixel_qa == 322)"
   ]
  },
  {
   "cell_type": "code",
   "execution_count": null,
   "metadata": {},
   "outputs": [],
   "source": [
    "autumn_valid = autumn.where(autumn != autumn.attrs['nodata'])"
   ]
  },
  {
   "cell_type": "code",
   "execution_count": null,
   "metadata": {},
   "outputs": [],
   "source": [
    "autumn_valid.plot(col='time', col_wrap=10)"
   ]
  },
  {
   "cell_type": "markdown",
   "metadata": {},
   "source": [
    "# 4.NDVI example"
   ]
  },
  {
   "cell_type": "code",
   "execution_count": null,
   "metadata": {},
   "outputs": [],
   "source": [
    "red = combined_dataset.red.where(combined_dataset.red != combined_dataset.red.attrs['nodata']).where(combined_dataset.pixel_qa == 322)\n",
    "nir = combined_dataset.nir.where(combined_dataset.nir != combined_dataset.nir.attrs['nodata']).where(combined_dataset.pixel_qa == 322)\n",
    "\n",
    "ndvi = ((nir - red) / (nir + red)).where(ndvi <= 1).where(ndvi >= -1)"
   ]
  },
  {
   "cell_type": "code",
   "execution_count": null,
   "metadata": {},
   "outputs": [],
   "source": [
    "ndvi.plot(col='time', col_wrap=10)"
   ]
  },
  {
   "cell_type": "code",
   "execution_count": null,
   "metadata": {},
   "outputs": [],
   "source": [
    "cloud_free = combined_dataset.pixel_qa.where(combined_dataset.pixel_qa != combined_dataset.pixel_qa.attrs['nodata']).where(combined_dataset.pixel_qa == 322) / 322\n",
    "mostly_cloud_free = cloud_free.sum(dim=('latitude','longitude')) > (0.75 * cloud_free.size / cloud_free.time.size)\n",
    "mostly_good_ndvi = ndvi.where(mostly_cloud_free).dropna('time', how='all')"
   ]
  },
  {
   "cell_type": "code",
   "execution_count": null,
   "metadata": {},
   "outputs": [],
   "source": [
    "mostly_good_ndvi.plot(col='time', col_wrap=10)"
   ]
  },
  {
   "cell_type": "code",
   "execution_count": null,
   "metadata": {},
   "outputs": [],
   "source": [
    "mostly_good_ndvi.median(dim='time').plot()"
   ]
  },
  {
   "cell_type": "code",
   "execution_count": null,
   "metadata": {},
   "outputs": [],
   "source": [
    "mostly_good_ndvi.max(dim='time').plot()"
   ]
  },
  {
   "cell_type": "code",
   "execution_count": null,
   "metadata": {},
   "outputs": [],
   "source": [
    "mostly_good_ndvi.std(dim='time').plot()"
   ]
  },
  {
   "cell_type": "code",
   "execution_count": null,
   "metadata": {},
   "outputs": [],
   "source": [
    "mostly_good_ndvi.sel(latitude=24.958132, longitude=121.126085, method='nearest').plot()"
   ]
  },
  {
   "cell_type": "markdown",
   "metadata": {},
   "source": [
    "# 5.Cloud free example"
   ]
  },
  {
   "cell_type": "code",
   "execution_count": null,
   "metadata": {},
   "outputs": [],
   "source": [
    "%matplotlib inline\n",
    "from matplotlib import pyplot as plt\n",
    "data = dataset\n",
    "cloud_free_green = data.green.where(data.green > 0).where(data.pixel_qa == 322)\n",
    "#cloud_free.plot(col='time', col_wrap=3)\n",
    "cloud_free_red = data.red.where(data.red > 0).where(data.pixel_qa == 322)\n",
    "cloud_free_blue = data.blue.where(data.blue > 0).where(data.pixel_qa == 322)\n",
    "cloud_free_nir = data.nir.where(data.nir > 0).where(data.pixel_qa == 322)\n",
    "cloud_free_swir1 = data.swir1.where(data.swir1 > 0).where(data.pixel_qa == 322)\n",
    "cloud_free_swir2 = data.swir2.where(data.swir2 > 0).where(data.pixel_qa == 322)"
   ]
  },
  {
   "cell_type": "code",
   "execution_count": null,
   "metadata": {},
   "outputs": [],
   "source": [
    "combine_green = cloud_free_green.median(dim='time')\n",
    "combine_red = cloud_free_red.median(dim='time')\n",
    "combine_blue = cloud_free_blue.median(dim='time')\n",
    "combine_nir = cloud_free_nir.median(dim='time')\n",
    "combine_swir1 = cloud_free_swir1.median(dim='time')\n",
    "combine_swir2 = cloud_free_swir2.median(dim='time')"
   ]
  },
  {
   "cell_type": "code",
   "execution_count": null,
   "metadata": {},
   "outputs": [],
   "source": [
    "combine_green.plot()"
   ]
  },
  {
   "cell_type": "code",
   "execution_count": null,
   "metadata": {},
   "outputs": [],
   "source": [
    "max_val = combine_green.max(['latitude', 'longitude'])\n",
    "# 然後找最大的scale\n",
    "scaled = (combine_green / max_val)\n",
    "# 設定scaled\n",
    "\n",
    "from matplotlib import pyplot as plt\n",
    "#plt.imshow(scaled.isel(time=19))\n",
    "plt.figure(figsize = (100,19))\n",
    "plt.imshow(scaled, interpolation='nearest')"
   ]
  },
  {
   "cell_type": "code",
   "execution_count": null,
   "metadata": {},
   "outputs": [],
   "source": [
    "combine_red.plot()"
   ]
  },
  {
   "cell_type": "code",
   "execution_count": null,
   "metadata": {},
   "outputs": [],
   "source": [
    "combine_blue.plot()"
   ]
  },
  {
   "cell_type": "code",
   "execution_count": null,
   "metadata": {},
   "outputs": [],
   "source": [
    "import xarray as xr\n",
    "test = xr.Dataset({})\n",
    "for band in desired_bands:\n",
    "    if band != 'pixel_qa':\n",
    "        temp1 = data.get([band]).where(data.get([band]) > 0).where(data.pixel_qa == 322).median(dim='time')\n",
    "        test = test.merge(temp1)\n",
    "test"
   ]
  },
  {
   "cell_type": "code",
   "execution_count": null,
   "metadata": {},
   "outputs": [],
   "source": [
    "from utils.dc_utilities import write_geotiff_from_xr, write_png_from_xr\n",
    "\n",
    "measurements = desired_bands.copy()\n",
    "measurements.remove('pixel_qa')\n",
    "measurements\n",
    "write_geotiff_from_xr(\"/home/localuser/Datacube/data_cube_notebooks/NTUF_Hsing-Yu/taipei_cloud_remove_new.tiff\", test, measurements, nodata=0, crs=\"EPSG:4326\")"
   ]
  },
  {
   "cell_type": "code",
   "execution_count": null,
   "metadata": {},
   "outputs": [],
   "source": [
    "combine = combine_green.to_dataset(name = \"green\")\n",
    "combine = combine.merge(combine_red.to_dataset(name = \"red\"))\n",
    "combine = combine.merge(combine_blue.to_dataset(name = \"blue\"))"
   ]
  },
  {
   "cell_type": "code",
   "execution_count": null,
   "metadata": {},
   "outputs": [],
   "source": [
    "combine"
   ]
  },
  {
   "cell_type": "code",
   "execution_count": null,
   "metadata": {},
   "outputs": [],
   "source": [
    "rbg = combine.to_array(dim='color').transpose('latitude', 'longitude', 'color')"
   ]
  },
  {
   "cell_type": "code",
   "execution_count": null,
   "metadata": {},
   "outputs": [],
   "source": [
    "fake_saturation = 3000\n",
    "# 這個是用來當作影像值得上限，超過就用3000取代\n",
    "clipped_visible = rbg.where(rbg < fake_saturation).fillna(fake_saturation)\n",
    "# 上面這邊就是這樣做，透過fillna()函式可以填入值\n",
    "max_val = clipped_visible.max(['latitude', 'longitude'])\n",
    "# 然後找最大的scale\n",
    "scaled = (clipped_visible / max_val)\n",
    "# 設定scaled\n",
    "\n",
    "from matplotlib import pyplot as plt\n",
    "#plt.imshow(scaled.isel(time=19))\n",
    "plt.figure(figsize = (100,19))\n",
    "plt.imshow(scaled, interpolation='nearest')\n",
    "# 最後就印出來，記得要import該import的東西"
   ]
  },
  {
   "cell_type": "code",
   "execution_count": null,
   "metadata": {},
   "outputs": [],
   "source": [
    "from utils.dc_utilities import write_geotiff_from_xr, write_png_from_xr\n",
    "measurements = ['green','red','blue']\n",
    "write_geotiff_from_xr(\"/home/localuser/Datacube/data_cube_notebooks/NTUF_Hsing-Yu/2014-2013_color-only.tiff\", combine, measurements, nodata=0, crs=\"EPSG:4326\")"
   ]
  },
  {
   "cell_type": "code",
   "execution_count": null,
   "metadata": {},
   "outputs": [],
   "source": [
    "#這個製出的圖顏色會怪怪的\n",
    "write_png_from_xr(\"/home/localuser/Datacube/data_cube_notebooks/NTUF_Hsing-Yu/2015taipei_cloud_remove.png\", combine, ['green','red','blue'], scale=[[255,0], [255,0], [255,0]])"
   ]
  },
  {
   "cell_type": "code",
   "execution_count": null,
   "metadata": {},
   "outputs": [],
   "source": [
    "#替代方案，用matplotlib製成png檔案\n",
    "plt.imsave(\"/home/localuser/Datacube/data_cube_notebooks/NTUF_Hsing-Yu/2015taipei_cloud_remove2.png\", scaled)"
   ]
  }
 ],
 "metadata": {
  "kernelspec": {
   "display_name": "Python [root] *",
   "language": "python",
   "name": "conda-root-py"
  },
  "language_info": {
   "codemirror_mode": {
    "name": "ipython",
    "version": 3
   },
   "file_extension": ".py",
   "mimetype": "text/x-python",
   "name": "python",
   "nbconvert_exporter": "python",
   "pygments_lexer": "ipython3",
   "version": "3.6.7"
  }
 },
 "nbformat": 4,
 "nbformat_minor": 2
}
